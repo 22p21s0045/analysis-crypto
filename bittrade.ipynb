{
  "nbformat": 4,
  "nbformat_minor": 0,
  "metadata": {
    "colab": {
      "name": "bittrade.ipynb",
      "provenance": []
    },
    "kernelspec": {
      "name": "python3",
      "display_name": "Python 3"
    },
    "language_info": {
      "name": "python"
    }
  },
  "cells": [
    {
      "cell_type": "code",
      "metadata": {
        "id": "fDcwJBtwm8rh",
        "colab": {
          "base_uri": "https://localhost:8080/"
        },
        "outputId": "9f911f46-5e52-4361-b58c-8a3a2b5482f1"
      },
      "source": [
        "zzzzzzzzzzzzzzzzzzzzzzzzzzzpip install bitkub"
      ],
      "execution_count": null,
      "outputs": [
        {
          "output_type": "stream",
          "text": [
            "Collecting bitkub\n",
            "  Downloading https://files.pythonhosted.org/packages/1b/ca/5558990cfa7c06fa94c7df32d2823f901d85a263e317cd2b4edc959affc5/bitkub-1.0.3-py3-none-any.whl\n",
            "Requirement already satisfied: requests in /usr/local/lib/python3.7/dist-packages (from bitkub) (2.23.0)\n",
            "Requirement already satisfied: idna<3,>=2.5 in /usr/local/lib/python3.7/dist-packages (from requests->bitkub) (2.10)\n",
            "Requirement already satisfied: urllib3!=1.25.0,!=1.25.1,<1.26,>=1.21.1 in /usr/local/lib/python3.7/dist-packages (from requests->bitkub) (1.24.3)\n",
            "Requirement already satisfied: chardet<4,>=3.0.2 in /usr/local/lib/python3.7/dist-packages (from requests->bitkub) (3.0.4)\n",
            "Requirement already satisfied: certifi>=2017.4.17 in /usr/local/lib/python3.7/dist-packages (from requests->bitkub) (2020.12.5)\n",
            "Installing collected packages: bitkub\n",
            "Successfully installed bitkub-1.0.3\n"
          ],
          "name": "stdout"
        }
      ]
    },
    {
      "cell_type": "code",
      "metadata": {
        "colab": {
          "base_uri": "https://localhost:8080/",
          "height": 203
        },
        "id": "AyIw1cvVnm5N",
        "outputId": "aee9552c-a8d9-42d3-f7e5-a3145b3b8d81"
      },
      "source": [
        "import bitkub as bt\n",
        "p = 'THB_XRP'\n",
        "g = bt.getprice(p)\n"
      ],
      "execution_count": null,
      "outputs": [
        {
          "output_type": "error",
          "ename": "AttributeError",
          "evalue": "ignored",
          "traceback": [
            "\u001b[0;31m---------------------------------------------------------------------------\u001b[0m",
            "\u001b[0;31mAttributeError\u001b[0m                            Traceback (most recent call last)",
            "\u001b[0;32m<ipython-input-3-7934bb6013de>\u001b[0m in \u001b[0;36m<module>\u001b[0;34m()\u001b[0m\n\u001b[1;32m      1\u001b[0m \u001b[0;32mimport\u001b[0m \u001b[0mbitkub\u001b[0m \u001b[0;32mas\u001b[0m \u001b[0mbt\u001b[0m\u001b[0;34m\u001b[0m\u001b[0;34m\u001b[0m\u001b[0m\n\u001b[1;32m      2\u001b[0m \u001b[0mp\u001b[0m \u001b[0;34m=\u001b[0m \u001b[0;34m'THB_XRP'\u001b[0m\u001b[0;34m\u001b[0m\u001b[0;34m\u001b[0m\u001b[0m\n\u001b[0;32m----> 3\u001b[0;31m \u001b[0mg\u001b[0m \u001b[0;34m=\u001b[0m \u001b[0mbt\u001b[0m\u001b[0;34m.\u001b[0m\u001b[0mgetprice\u001b[0m\u001b[0;34m(\u001b[0m\u001b[0mp\u001b[0m\u001b[0;34m)\u001b[0m\u001b[0;34m\u001b[0m\u001b[0;34m\u001b[0m\u001b[0m\n\u001b[0m",
            "\u001b[0;31mAttributeError\u001b[0m: module 'bitkub' has no attribute 'getprice'"
          ]
        }
      ]
    },
    {
      "cell_type": "code",
      "metadata": {
        "id": "v9AqlP7ZoUth"
      },
      "source": [
        "pip install cryptocompare"
      ],
      "execution_count": null,
      "outputs": []
    },
    {
      "cell_type": "code",
      "metadata": {
        "id": "2Y0t6f420XlN"
      },
      "source": [
        "import cryptocompare\n",
        "cryptocompare.get_price('BTC',currency='THB')\n"
      ],
      "execution_count": null,
      "outputs": []
    },
    {
      "cell_type": "code",
      "metadata": {
        "id": "qFx7lSXH11jH"
      },
      "source": [
        "import tkinter as tk\n",
        "window = tk.Tk()"
      ],
      "execution_count": null,
      "outputs": []
    },
    {
      "cell_type": "code",
      "metadata": {
        "id": "C6iZLHpjWOte"
      },
      "source": [
        "pip install quandl"
      ],
      "execution_count": null,
      "outputs": []
    },
    {
      "cell_type": "code",
      "metadata": {
        "id": "7CDszOl4WJ7S"
      },
      "source": [
        "import quandl\n",
        "import pandas as pd \n",
        "import numpy as np \n",
        "\n",
        "df = quandl.get('BCHARTS/KRAKENUSD', returns=\"pandas\")\n",
        "df.head()"
      ],
      "execution_count": null,
      "outputs": []
    },
    {
      "cell_type": "code",
      "metadata": {
        "colab": {
          "base_uri": "https://localhost:8080/"
        },
        "id": "SHJGeNytXxci",
        "outputId": "2dc0f63e-369d-4593-909f-312dd64b2f22"
      },
      "source": [
        "pip install yfinance"
      ],
      "execution_count": null,
      "outputs": [
        {
          "output_type": "stream",
          "text": [
            "Collecting yfinance\n",
            "  Downloading https://files.pythonhosted.org/packages/a7/ee/315752b9ef281ba83c62aa7ec2e2074f85223da6e7e74efb4d3e11c0f510/yfinance-0.1.59.tar.gz\n",
            "Requirement already satisfied: pandas>=0.24 in /usr/local/lib/python3.7/dist-packages (from yfinance) (1.1.5)\n",
            "Requirement already satisfied: numpy>=1.15 in /usr/local/lib/python3.7/dist-packages (from yfinance) (1.19.5)\n",
            "Requirement already satisfied: requests>=2.20 in /usr/local/lib/python3.7/dist-packages (from yfinance) (2.23.0)\n",
            "Requirement already satisfied: multitasking>=0.0.7 in /usr/local/lib/python3.7/dist-packages (from yfinance) (0.0.9)\n",
            "Collecting lxml>=4.5.1\n",
            "\u001b[?25l  Downloading https://files.pythonhosted.org/packages/30/c0/d0526314971fc661b083ab135747dc68446a3022686da8c16d25fcf6ef07/lxml-4.6.3-cp37-cp37m-manylinux2014_x86_64.whl (6.3MB)\n",
            "\u001b[K     |████████████████████████████████| 6.3MB 10.4MB/s \n",
            "\u001b[?25hRequirement already satisfied: pytz>=2017.2 in /usr/local/lib/python3.7/dist-packages (from pandas>=0.24->yfinance) (2018.9)\n",
            "Requirement already satisfied: python-dateutil>=2.7.3 in /usr/local/lib/python3.7/dist-packages (from pandas>=0.24->yfinance) (2.8.1)\n",
            "Requirement already satisfied: idna<3,>=2.5 in /usr/local/lib/python3.7/dist-packages (from requests>=2.20->yfinance) (2.10)\n",
            "Requirement already satisfied: chardet<4,>=3.0.2 in /usr/local/lib/python3.7/dist-packages (from requests>=2.20->yfinance) (3.0.4)\n",
            "Requirement already satisfied: certifi>=2017.4.17 in /usr/local/lib/python3.7/dist-packages (from requests>=2.20->yfinance) (2020.12.5)\n",
            "Requirement already satisfied: urllib3!=1.25.0,!=1.25.1,<1.26,>=1.21.1 in /usr/local/lib/python3.7/dist-packages (from requests>=2.20->yfinance) (1.24.3)\n",
            "Requirement already satisfied: six>=1.5 in /usr/local/lib/python3.7/dist-packages (from python-dateutil>=2.7.3->pandas>=0.24->yfinance) (1.15.0)\n",
            "Building wheels for collected packages: yfinance\n",
            "  Building wheel for yfinance (setup.py) ... \u001b[?25l\u001b[?25hdone\n",
            "  Created wheel for yfinance: filename=yfinance-0.1.59-py2.py3-none-any.whl size=23442 sha256=5a0e4405c11cb58bdafe20493d2a7fb379ade10521cc6f2188222543b2128667\n",
            "  Stored in directory: /root/.cache/pip/wheels/f8/2a/0f/4b5a86e1d52e451757eb6bc17fd899629f0925c777741b6d04\n",
            "Successfully built yfinance\n",
            "Installing collected packages: lxml, yfinance\n",
            "  Found existing installation: lxml 4.2.6\n",
            "    Uninstalling lxml-4.2.6:\n",
            "      Successfully uninstalled lxml-4.2.6\n",
            "Successfully installed lxml-4.6.3 yfinance-0.1.59\n"
          ],
          "name": "stdout"
        }
      ]
    },
    {
      "cell_type": "code",
      "metadata": {
        "id": "uNUSUwrMauO2"
      },
      "source": [
        "import matplotlib.pyplot as plt\n",
        "import yfinance as yf\n",
        "from fbprophet import Prophet"
      ],
      "execution_count": null,
      "outputs": []
    },
    {
      "cell_type": "code",
      "metadata": {
        "id": "rU_Niv9pbUb5",
        "colab": {
          "base_uri": "https://localhost:8080/",
          "height": 454
        },
        "outputId": "7930bbfc-7882-46e0-c551-015616d2f8b3"
      },
      "source": [
        "df = yf.download('BTC-USD',start='2017-01-01')\n",
        "df"
      ],
      "execution_count": null,
      "outputs": [
        {
          "output_type": "stream",
          "text": [
            "\r[*********************100%***********************]  1 of 1 completed\n"
          ],
          "name": "stdout"
        },
        {
          "output_type": "execute_result",
          "data": {
            "text/html": [
              "<div>\n",
              "<style scoped>\n",
              "    .dataframe tbody tr th:only-of-type {\n",
              "        vertical-align: middle;\n",
              "    }\n",
              "\n",
              "    .dataframe tbody tr th {\n",
              "        vertical-align: top;\n",
              "    }\n",
              "\n",
              "    .dataframe thead th {\n",
              "        text-align: right;\n",
              "    }\n",
              "</style>\n",
              "<table border=\"1\" class=\"dataframe\">\n",
              "  <thead>\n",
              "    <tr style=\"text-align: right;\">\n",
              "      <th></th>\n",
              "      <th>Open</th>\n",
              "      <th>High</th>\n",
              "      <th>Low</th>\n",
              "      <th>Close</th>\n",
              "      <th>Adj Close</th>\n",
              "      <th>Volume</th>\n",
              "    </tr>\n",
              "    <tr>\n",
              "      <th>Date</th>\n",
              "      <th></th>\n",
              "      <th></th>\n",
              "      <th></th>\n",
              "      <th></th>\n",
              "      <th></th>\n",
              "      <th></th>\n",
              "    </tr>\n",
              "  </thead>\n",
              "  <tbody>\n",
              "    <tr>\n",
              "      <th>2017-01-01</th>\n",
              "      <td>963.658020</td>\n",
              "      <td>1003.080017</td>\n",
              "      <td>958.698975</td>\n",
              "      <td>998.325012</td>\n",
              "      <td>998.325012</td>\n",
              "      <td>147775008</td>\n",
              "    </tr>\n",
              "    <tr>\n",
              "      <th>2017-01-02</th>\n",
              "      <td>998.617004</td>\n",
              "      <td>1031.390015</td>\n",
              "      <td>996.702026</td>\n",
              "      <td>1021.750000</td>\n",
              "      <td>1021.750000</td>\n",
              "      <td>222184992</td>\n",
              "    </tr>\n",
              "    <tr>\n",
              "      <th>2017-01-03</th>\n",
              "      <td>1021.599976</td>\n",
              "      <td>1044.079956</td>\n",
              "      <td>1021.599976</td>\n",
              "      <td>1043.839966</td>\n",
              "      <td>1043.839966</td>\n",
              "      <td>185168000</td>\n",
              "    </tr>\n",
              "    <tr>\n",
              "      <th>2017-01-04</th>\n",
              "      <td>1044.400024</td>\n",
              "      <td>1159.420044</td>\n",
              "      <td>1044.400024</td>\n",
              "      <td>1154.729980</td>\n",
              "      <td>1154.729980</td>\n",
              "      <td>344945984</td>\n",
              "    </tr>\n",
              "    <tr>\n",
              "      <th>2017-01-05</th>\n",
              "      <td>1156.729980</td>\n",
              "      <td>1191.099976</td>\n",
              "      <td>910.416992</td>\n",
              "      <td>1013.380005</td>\n",
              "      <td>1013.380005</td>\n",
              "      <td>510199008</td>\n",
              "    </tr>\n",
              "    <tr>\n",
              "      <th>...</th>\n",
              "      <td>...</td>\n",
              "      <td>...</td>\n",
              "      <td>...</td>\n",
              "      <td>...</td>\n",
              "      <td>...</td>\n",
              "      <td>...</td>\n",
              "    </tr>\n",
              "    <tr>\n",
              "      <th>2021-05-16</th>\n",
              "      <td>46716.636719</td>\n",
              "      <td>49720.042969</td>\n",
              "      <td>43963.351562</td>\n",
              "      <td>46456.058594</td>\n",
              "      <td>46456.058594</td>\n",
              "      <td>64047871555</td>\n",
              "    </tr>\n",
              "    <tr>\n",
              "      <th>2021-05-17</th>\n",
              "      <td>46415.898438</td>\n",
              "      <td>46623.558594</td>\n",
              "      <td>42207.289062</td>\n",
              "      <td>43537.511719</td>\n",
              "      <td>43537.511719</td>\n",
              "      <td>74903638450</td>\n",
              "    </tr>\n",
              "    <tr>\n",
              "      <th>2021-05-18</th>\n",
              "      <td>43488.058594</td>\n",
              "      <td>45812.457031</td>\n",
              "      <td>42367.832031</td>\n",
              "      <td>42909.402344</td>\n",
              "      <td>42909.402344</td>\n",
              "      <td>56187365084</td>\n",
              "    </tr>\n",
              "    <tr>\n",
              "      <th>2021-05-19</th>\n",
              "      <td>42944.976562</td>\n",
              "      <td>43546.117188</td>\n",
              "      <td>30681.496094</td>\n",
              "      <td>37002.441406</td>\n",
              "      <td>37002.441406</td>\n",
              "      <td>126358098747</td>\n",
              "    </tr>\n",
              "    <tr>\n",
              "      <th>2021-05-20</th>\n",
              "      <td>37281.851562</td>\n",
              "      <td>42406.218750</td>\n",
              "      <td>35050.617188</td>\n",
              "      <td>39481.308594</td>\n",
              "      <td>39481.308594</td>\n",
              "      <td>95300493312</td>\n",
              "    </tr>\n",
              "  </tbody>\n",
              "</table>\n",
              "<p>1597 rows × 6 columns</p>\n",
              "</div>"
            ],
            "text/plain": [
              "                    Open          High  ...     Adj Close        Volume\n",
              "Date                                    ...                            \n",
              "2017-01-01    963.658020   1003.080017  ...    998.325012     147775008\n",
              "2017-01-02    998.617004   1031.390015  ...   1021.750000     222184992\n",
              "2017-01-03   1021.599976   1044.079956  ...   1043.839966     185168000\n",
              "2017-01-04   1044.400024   1159.420044  ...   1154.729980     344945984\n",
              "2017-01-05   1156.729980   1191.099976  ...   1013.380005     510199008\n",
              "...                  ...           ...  ...           ...           ...\n",
              "2021-05-16  46716.636719  49720.042969  ...  46456.058594   64047871555\n",
              "2021-05-17  46415.898438  46623.558594  ...  43537.511719   74903638450\n",
              "2021-05-18  43488.058594  45812.457031  ...  42909.402344   56187365084\n",
              "2021-05-19  42944.976562  43546.117188  ...  37002.441406  126358098747\n",
              "2021-05-20  37281.851562  42406.218750  ...  39481.308594   95300493312\n",
              "\n",
              "[1597 rows x 6 columns]"
            ]
          },
          "metadata": {
            "tags": []
          },
          "execution_count": 3
        }
      ]
    },
    {
      "cell_type": "code",
      "metadata": {
        "id": "rnmINRKTbhZ0",
        "colab": {
          "base_uri": "https://localhost:8080/",
          "height": 406
        },
        "outputId": "7f9c2faf-328b-4ecb-ac73-38d21d841534"
      },
      "source": [
        "df = df.reset_index()\n",
        "df"
      ],
      "execution_count": null,
      "outputs": [
        {
          "output_type": "execute_result",
          "data": {
            "text/html": [
              "<div>\n",
              "<style scoped>\n",
              "    .dataframe tbody tr th:only-of-type {\n",
              "        vertical-align: middle;\n",
              "    }\n",
              "\n",
              "    .dataframe tbody tr th {\n",
              "        vertical-align: top;\n",
              "    }\n",
              "\n",
              "    .dataframe thead th {\n",
              "        text-align: right;\n",
              "    }\n",
              "</style>\n",
              "<table border=\"1\" class=\"dataframe\">\n",
              "  <thead>\n",
              "    <tr style=\"text-align: right;\">\n",
              "      <th></th>\n",
              "      <th>Date</th>\n",
              "      <th>Open</th>\n",
              "      <th>High</th>\n",
              "      <th>Low</th>\n",
              "      <th>Close</th>\n",
              "      <th>Adj Close</th>\n",
              "      <th>Volume</th>\n",
              "    </tr>\n",
              "  </thead>\n",
              "  <tbody>\n",
              "    <tr>\n",
              "      <th>0</th>\n",
              "      <td>2017-01-01</td>\n",
              "      <td>963.658020</td>\n",
              "      <td>1003.080017</td>\n",
              "      <td>958.698975</td>\n",
              "      <td>998.325012</td>\n",
              "      <td>998.325012</td>\n",
              "      <td>147775008</td>\n",
              "    </tr>\n",
              "    <tr>\n",
              "      <th>1</th>\n",
              "      <td>2017-01-02</td>\n",
              "      <td>998.617004</td>\n",
              "      <td>1031.390015</td>\n",
              "      <td>996.702026</td>\n",
              "      <td>1021.750000</td>\n",
              "      <td>1021.750000</td>\n",
              "      <td>222184992</td>\n",
              "    </tr>\n",
              "    <tr>\n",
              "      <th>2</th>\n",
              "      <td>2017-01-03</td>\n",
              "      <td>1021.599976</td>\n",
              "      <td>1044.079956</td>\n",
              "      <td>1021.599976</td>\n",
              "      <td>1043.839966</td>\n",
              "      <td>1043.839966</td>\n",
              "      <td>185168000</td>\n",
              "    </tr>\n",
              "    <tr>\n",
              "      <th>3</th>\n",
              "      <td>2017-01-04</td>\n",
              "      <td>1044.400024</td>\n",
              "      <td>1159.420044</td>\n",
              "      <td>1044.400024</td>\n",
              "      <td>1154.729980</td>\n",
              "      <td>1154.729980</td>\n",
              "      <td>344945984</td>\n",
              "    </tr>\n",
              "    <tr>\n",
              "      <th>4</th>\n",
              "      <td>2017-01-05</td>\n",
              "      <td>1156.729980</td>\n",
              "      <td>1191.099976</td>\n",
              "      <td>910.416992</td>\n",
              "      <td>1013.380005</td>\n",
              "      <td>1013.380005</td>\n",
              "      <td>510199008</td>\n",
              "    </tr>\n",
              "    <tr>\n",
              "      <th>...</th>\n",
              "      <td>...</td>\n",
              "      <td>...</td>\n",
              "      <td>...</td>\n",
              "      <td>...</td>\n",
              "      <td>...</td>\n",
              "      <td>...</td>\n",
              "      <td>...</td>\n",
              "    </tr>\n",
              "    <tr>\n",
              "      <th>1592</th>\n",
              "      <td>2021-05-16</td>\n",
              "      <td>46716.636719</td>\n",
              "      <td>49720.042969</td>\n",
              "      <td>43963.351562</td>\n",
              "      <td>46456.058594</td>\n",
              "      <td>46456.058594</td>\n",
              "      <td>64047871555</td>\n",
              "    </tr>\n",
              "    <tr>\n",
              "      <th>1593</th>\n",
              "      <td>2021-05-17</td>\n",
              "      <td>46415.898438</td>\n",
              "      <td>46623.558594</td>\n",
              "      <td>42207.289062</td>\n",
              "      <td>43537.511719</td>\n",
              "      <td>43537.511719</td>\n",
              "      <td>74903638450</td>\n",
              "    </tr>\n",
              "    <tr>\n",
              "      <th>1594</th>\n",
              "      <td>2021-05-18</td>\n",
              "      <td>43488.058594</td>\n",
              "      <td>45812.457031</td>\n",
              "      <td>42367.832031</td>\n",
              "      <td>42909.402344</td>\n",
              "      <td>42909.402344</td>\n",
              "      <td>56187365084</td>\n",
              "    </tr>\n",
              "    <tr>\n",
              "      <th>1595</th>\n",
              "      <td>2021-05-19</td>\n",
              "      <td>42944.976562</td>\n",
              "      <td>43546.117188</td>\n",
              "      <td>30681.496094</td>\n",
              "      <td>37002.441406</td>\n",
              "      <td>37002.441406</td>\n",
              "      <td>126358098747</td>\n",
              "    </tr>\n",
              "    <tr>\n",
              "      <th>1596</th>\n",
              "      <td>2021-05-20</td>\n",
              "      <td>37281.851562</td>\n",
              "      <td>42406.218750</td>\n",
              "      <td>35050.617188</td>\n",
              "      <td>39481.308594</td>\n",
              "      <td>39481.308594</td>\n",
              "      <td>95300493312</td>\n",
              "    </tr>\n",
              "  </tbody>\n",
              "</table>\n",
              "<p>1597 rows × 7 columns</p>\n",
              "</div>"
            ],
            "text/plain": [
              "           Date          Open  ...     Adj Close        Volume\n",
              "0    2017-01-01    963.658020  ...    998.325012     147775008\n",
              "1    2017-01-02    998.617004  ...   1021.750000     222184992\n",
              "2    2017-01-03   1021.599976  ...   1043.839966     185168000\n",
              "3    2017-01-04   1044.400024  ...   1154.729980     344945984\n",
              "4    2017-01-05   1156.729980  ...   1013.380005     510199008\n",
              "...         ...           ...  ...           ...           ...\n",
              "1592 2021-05-16  46716.636719  ...  46456.058594   64047871555\n",
              "1593 2021-05-17  46415.898438  ...  43537.511719   74903638450\n",
              "1594 2021-05-18  43488.058594  ...  42909.402344   56187365084\n",
              "1595 2021-05-19  42944.976562  ...  37002.441406  126358098747\n",
              "1596 2021-05-20  37281.851562  ...  39481.308594   95300493312\n",
              "\n",
              "[1597 rows x 7 columns]"
            ]
          },
          "metadata": {
            "tags": []
          },
          "execution_count": 4
        }
      ]
    },
    {
      "cell_type": "code",
      "metadata": {
        "colab": {
          "base_uri": "https://localhost:8080/",
          "height": 406
        },
        "id": "qvwQhFicbrlG",
        "outputId": "c85c1f35-f61d-4457-8628-6b7d3135c793"
      },
      "source": [
        "df[['ds','y']] =df[[\"Date\",\"Adj Close\"]]\n",
        "df"
      ],
      "execution_count": null,
      "outputs": [
        {
          "output_type": "execute_result",
          "data": {
            "text/html": [
              "<div>\n",
              "<style scoped>\n",
              "    .dataframe tbody tr th:only-of-type {\n",
              "        vertical-align: middle;\n",
              "    }\n",
              "\n",
              "    .dataframe tbody tr th {\n",
              "        vertical-align: top;\n",
              "    }\n",
              "\n",
              "    .dataframe thead th {\n",
              "        text-align: right;\n",
              "    }\n",
              "</style>\n",
              "<table border=\"1\" class=\"dataframe\">\n",
              "  <thead>\n",
              "    <tr style=\"text-align: right;\">\n",
              "      <th></th>\n",
              "      <th>Date</th>\n",
              "      <th>Open</th>\n",
              "      <th>High</th>\n",
              "      <th>Low</th>\n",
              "      <th>Close</th>\n",
              "      <th>Adj Close</th>\n",
              "      <th>Volume</th>\n",
              "      <th>ds</th>\n",
              "      <th>y</th>\n",
              "    </tr>\n",
              "  </thead>\n",
              "  <tbody>\n",
              "    <tr>\n",
              "      <th>0</th>\n",
              "      <td>2017-01-01</td>\n",
              "      <td>963.658020</td>\n",
              "      <td>1003.080017</td>\n",
              "      <td>958.698975</td>\n",
              "      <td>998.325012</td>\n",
              "      <td>998.325012</td>\n",
              "      <td>147775008</td>\n",
              "      <td>2017-01-01</td>\n",
              "      <td>998.325012</td>\n",
              "    </tr>\n",
              "    <tr>\n",
              "      <th>1</th>\n",
              "      <td>2017-01-02</td>\n",
              "      <td>998.617004</td>\n",
              "      <td>1031.390015</td>\n",
              "      <td>996.702026</td>\n",
              "      <td>1021.750000</td>\n",
              "      <td>1021.750000</td>\n",
              "      <td>222184992</td>\n",
              "      <td>2017-01-02</td>\n",
              "      <td>1021.750000</td>\n",
              "    </tr>\n",
              "    <tr>\n",
              "      <th>2</th>\n",
              "      <td>2017-01-03</td>\n",
              "      <td>1021.599976</td>\n",
              "      <td>1044.079956</td>\n",
              "      <td>1021.599976</td>\n",
              "      <td>1043.839966</td>\n",
              "      <td>1043.839966</td>\n",
              "      <td>185168000</td>\n",
              "      <td>2017-01-03</td>\n",
              "      <td>1043.839966</td>\n",
              "    </tr>\n",
              "    <tr>\n",
              "      <th>3</th>\n",
              "      <td>2017-01-04</td>\n",
              "      <td>1044.400024</td>\n",
              "      <td>1159.420044</td>\n",
              "      <td>1044.400024</td>\n",
              "      <td>1154.729980</td>\n",
              "      <td>1154.729980</td>\n",
              "      <td>344945984</td>\n",
              "      <td>2017-01-04</td>\n",
              "      <td>1154.729980</td>\n",
              "    </tr>\n",
              "    <tr>\n",
              "      <th>4</th>\n",
              "      <td>2017-01-05</td>\n",
              "      <td>1156.729980</td>\n",
              "      <td>1191.099976</td>\n",
              "      <td>910.416992</td>\n",
              "      <td>1013.380005</td>\n",
              "      <td>1013.380005</td>\n",
              "      <td>510199008</td>\n",
              "      <td>2017-01-05</td>\n",
              "      <td>1013.380005</td>\n",
              "    </tr>\n",
              "    <tr>\n",
              "      <th>...</th>\n",
              "      <td>...</td>\n",
              "      <td>...</td>\n",
              "      <td>...</td>\n",
              "      <td>...</td>\n",
              "      <td>...</td>\n",
              "      <td>...</td>\n",
              "      <td>...</td>\n",
              "      <td>...</td>\n",
              "      <td>...</td>\n",
              "    </tr>\n",
              "    <tr>\n",
              "      <th>1592</th>\n",
              "      <td>2021-05-16</td>\n",
              "      <td>46716.636719</td>\n",
              "      <td>49720.042969</td>\n",
              "      <td>43963.351562</td>\n",
              "      <td>46456.058594</td>\n",
              "      <td>46456.058594</td>\n",
              "      <td>64047871555</td>\n",
              "      <td>2021-05-16</td>\n",
              "      <td>46456.058594</td>\n",
              "    </tr>\n",
              "    <tr>\n",
              "      <th>1593</th>\n",
              "      <td>2021-05-17</td>\n",
              "      <td>46415.898438</td>\n",
              "      <td>46623.558594</td>\n",
              "      <td>42207.289062</td>\n",
              "      <td>43537.511719</td>\n",
              "      <td>43537.511719</td>\n",
              "      <td>74903638450</td>\n",
              "      <td>2021-05-17</td>\n",
              "      <td>43537.511719</td>\n",
              "    </tr>\n",
              "    <tr>\n",
              "      <th>1594</th>\n",
              "      <td>2021-05-18</td>\n",
              "      <td>43488.058594</td>\n",
              "      <td>45812.457031</td>\n",
              "      <td>42367.832031</td>\n",
              "      <td>42909.402344</td>\n",
              "      <td>42909.402344</td>\n",
              "      <td>56187365084</td>\n",
              "      <td>2021-05-18</td>\n",
              "      <td>42909.402344</td>\n",
              "    </tr>\n",
              "    <tr>\n",
              "      <th>1595</th>\n",
              "      <td>2021-05-19</td>\n",
              "      <td>42944.976562</td>\n",
              "      <td>43546.117188</td>\n",
              "      <td>30681.496094</td>\n",
              "      <td>37002.441406</td>\n",
              "      <td>37002.441406</td>\n",
              "      <td>126358098747</td>\n",
              "      <td>2021-05-19</td>\n",
              "      <td>37002.441406</td>\n",
              "    </tr>\n",
              "    <tr>\n",
              "      <th>1596</th>\n",
              "      <td>2021-05-20</td>\n",
              "      <td>37281.851562</td>\n",
              "      <td>42406.218750</td>\n",
              "      <td>35050.617188</td>\n",
              "      <td>39481.308594</td>\n",
              "      <td>39481.308594</td>\n",
              "      <td>95300493312</td>\n",
              "      <td>2021-05-20</td>\n",
              "      <td>39481.308594</td>\n",
              "    </tr>\n",
              "  </tbody>\n",
              "</table>\n",
              "<p>1597 rows × 9 columns</p>\n",
              "</div>"
            ],
            "text/plain": [
              "           Date          Open  ...         ds             y\n",
              "0    2017-01-01    963.658020  ... 2017-01-01    998.325012\n",
              "1    2017-01-02    998.617004  ... 2017-01-02   1021.750000\n",
              "2    2017-01-03   1021.599976  ... 2017-01-03   1043.839966\n",
              "3    2017-01-04   1044.400024  ... 2017-01-04   1154.729980\n",
              "4    2017-01-05   1156.729980  ... 2017-01-05   1013.380005\n",
              "...         ...           ...  ...        ...           ...\n",
              "1592 2021-05-16  46716.636719  ... 2021-05-16  46456.058594\n",
              "1593 2021-05-17  46415.898438  ... 2021-05-17  43537.511719\n",
              "1594 2021-05-18  43488.058594  ... 2021-05-18  42909.402344\n",
              "1595 2021-05-19  42944.976562  ... 2021-05-19  37002.441406\n",
              "1596 2021-05-20  37281.851562  ... 2021-05-20  39481.308594\n",
              "\n",
              "[1597 rows x 9 columns]"
            ]
          },
          "metadata": {
            "tags": []
          },
          "execution_count": 5
        }
      ]
    },
    {
      "cell_type": "code",
      "metadata": {
        "id": "xFL5Nlw0b8vP"
      },
      "source": [
        "model = Prophet()"
      ],
      "execution_count": null,
      "outputs": []
    },
    {
      "cell_type": "code",
      "metadata": {
        "colab": {
          "base_uri": "https://localhost:8080/"
        },
        "id": "P9bbmZmTcJrK",
        "outputId": "3f160744-b334-4e62-82c5-a6c030cfe5b7"
      },
      "source": [
        "model.fit(df)"
      ],
      "execution_count": null,
      "outputs": [
        {
          "output_type": "stream",
          "text": [
            "INFO:fbprophet:Disabling daily seasonality. Run prophet with daily_seasonality=True to override this.\n"
          ],
          "name": "stderr"
        },
        {
          "output_type": "execute_result",
          "data": {
            "text/plain": [
              "<fbprophet.forecaster.Prophet at 0x7fc09a0c4410>"
            ]
          },
          "metadata": {
            "tags": []
          },
          "execution_count": 7
        }
      ]
    },
    {
      "cell_type": "code",
      "metadata": {
        "id": "Jt2E3cYPcU0S"
      },
      "source": [
        "future = model.make_future_dataframe(365)"
      ],
      "execution_count": null,
      "outputs": []
    },
    {
      "cell_type": "code",
      "metadata": {
        "id": "7X348KUVcaPg"
      },
      "source": [
        "forecast = model.predict(future)"
      ],
      "execution_count": null,
      "outputs": []
    },
    {
      "cell_type": "code",
      "metadata": {
        "colab": {
          "base_uri": "https://localhost:8080/",
          "height": 441
        },
        "id": "8cEbHW_ichtz",
        "outputId": "e2e7290f-c250-4e98-c0e3-0833379d4fcc"
      },
      "source": [
        "model.plot(forecast)\n",
        "plt.show()"
      ],
      "execution_count": null,
      "outputs": [
        {
          "output_type": "display_data",
          "data": {
            "image/png": "[encoded data removed]",
            "text/plain": [
              "<Figure size 720x432 with 1 Axes>"
            ]
          },
          "metadata": {
            "tags": []
          }
        }
      ]
    },
    {
      "cell_type": "markdown",
      "metadata": {
        "id": "R8BLZz9HnWw9"
      },
      "source": [
        "DOGE"
      ]
    },
    {
      "cell_type": "code",
      "metadata": {
        "id": "LUbtI6-Wcops",
        "colab": {
          "base_uri": "https://localhost:8080/",
          "height": 454
        },
        "outputId": "cec0b8cf-1f23-4389-8418-bc5a8ebd36e1"
      },
      "source": [
        "df = yf.download('DOGE-USD',start='2017-01-01')\n",
        "df"
      ],
      "execution_count": null,
      "outputs": [
        {
          "output_type": "stream",
          "text": [
            "\r[*********************100%***********************]  1 of 1 completed\n"
          ],
          "name": "stdout"
        },
        {
          "output_type": "execute_result",
          "data": {
            "text/html": [
              "<div>\n",
              "<style scoped>\n",
              "    .dataframe tbody tr th:only-of-type {\n",
              "        vertical-align: middle;\n",
              "    }\n",
              "\n",
              "    .dataframe tbody tr th {\n",
              "        vertical-align: top;\n",
              "    }\n",
              "\n",
              "    .dataframe thead th {\n",
              "        text-align: right;\n",
              "    }\n",
              "</style>\n",
              "<table border=\"1\" class=\"dataframe\">\n",
              "  <thead>\n",
              "    <tr style=\"text-align: right;\">\n",
              "      <th></th>\n",
              "      <th>Open</th>\n",
              "      <th>High</th>\n",
              "      <th>Low</th>\n",
              "      <th>Close</th>\n",
              "      <th>Adj Close</th>\n",
              "      <th>Volume</th>\n",
              "    </tr>\n",
              "    <tr>\n",
              "      <th>Date</th>\n",
              "      <th></th>\n",
              "      <th></th>\n",
              "      <th></th>\n",
              "      <th></th>\n",
              "      <th></th>\n",
              "      <th></th>\n",
              "    </tr>\n",
              "  </thead>\n",
              "  <tbody>\n",
              "    <tr>\n",
              "      <th>2017-01-01</th>\n",
              "      <td>0.000223</td>\n",
              "      <td>0.000228</td>\n",
              "      <td>0.000221</td>\n",
              "      <td>0.000228</td>\n",
              "      <td>0.000228</td>\n",
              "      <td>136829</td>\n",
              "    </tr>\n",
              "    <tr>\n",
              "      <th>2017-01-02</th>\n",
              "      <td>0.000228</td>\n",
              "      <td>0.000230</td>\n",
              "      <td>0.000222</td>\n",
              "      <td>0.000226</td>\n",
              "      <td>0.000226</td>\n",
              "      <td>195520</td>\n",
              "    </tr>\n",
              "    <tr>\n",
              "      <th>2017-01-03</th>\n",
              "      <td>0.000224</td>\n",
              "      <td>0.000228</td>\n",
              "      <td>0.000222</td>\n",
              "      <td>0.000227</td>\n",
              "      <td>0.000227</td>\n",
              "      <td>132352</td>\n",
              "    </tr>\n",
              "    <tr>\n",
              "      <th>2017-01-04</th>\n",
              "      <td>0.000227</td>\n",
              "      <td>0.000239</td>\n",
              "      <td>0.000225</td>\n",
              "      <td>0.000236</td>\n",
              "      <td>0.000236</td>\n",
              "      <td>442095</td>\n",
              "    </tr>\n",
              "    <tr>\n",
              "      <th>2017-01-05</th>\n",
              "      <td>0.000233</td>\n",
              "      <td>0.000257</td>\n",
              "      <td>0.000221</td>\n",
              "      <td>0.000229</td>\n",
              "      <td>0.000229</td>\n",
              "      <td>994730</td>\n",
              "    </tr>\n",
              "    <tr>\n",
              "      <th>...</th>\n",
              "      <td>...</td>\n",
              "      <td>...</td>\n",
              "      <td>...</td>\n",
              "      <td>...</td>\n",
              "      <td>...</td>\n",
              "      <td>...</td>\n",
              "    </tr>\n",
              "    <tr>\n",
              "      <th>2021-05-11</th>\n",
              "      <td>0.450488</td>\n",
              "      <td>0.546651</td>\n",
              "      <td>0.445034</td>\n",
              "      <td>0.495231</td>\n",
              "      <td>0.495231</td>\n",
              "      <td>14566975476</td>\n",
              "    </tr>\n",
              "    <tr>\n",
              "      <th>2021-05-12</th>\n",
              "      <td>0.493742</td>\n",
              "      <td>0.519975</td>\n",
              "      <td>0.385376</td>\n",
              "      <td>0.385376</td>\n",
              "      <td>0.385376</td>\n",
              "      <td>8621337859</td>\n",
              "    </tr>\n",
              "    <tr>\n",
              "      <th>2021-05-13</th>\n",
              "      <td>0.392176</td>\n",
              "      <td>0.519461</td>\n",
              "      <td>0.357175</td>\n",
              "      <td>0.490374</td>\n",
              "      <td>0.490374</td>\n",
              "      <td>18663174069</td>\n",
              "    </tr>\n",
              "    <tr>\n",
              "      <th>2021-05-14</th>\n",
              "      <td>0.487070</td>\n",
              "      <td>0.589690</td>\n",
              "      <td>0.464622</td>\n",
              "      <td>0.559604</td>\n",
              "      <td>0.559604</td>\n",
              "      <td>20466177002</td>\n",
              "    </tr>\n",
              "    <tr>\n",
              "      <th>2021-05-15</th>\n",
              "      <td>0.556366</td>\n",
              "      <td>0.561477</td>\n",
              "      <td>0.522620</td>\n",
              "      <td>0.537252</td>\n",
              "      <td>0.537252</td>\n",
              "      <td>17539403776</td>\n",
              "    </tr>\n",
              "  </tbody>\n",
              "</table>\n",
              "<p>1592 rows × 6 columns</p>\n",
              "</div>"
            ],
            "text/plain": [
              "                Open      High       Low     Close  Adj Close       Volume\n",
              "Date                                                                      \n",
              "2017-01-01  0.000223  0.000228  0.000221  0.000228   0.000228       136829\n",
              "2017-01-02  0.000228  0.000230  0.000222  0.000226   0.000226       195520\n",
              "2017-01-03  0.000224  0.000228  0.000222  0.000227   0.000227       132352\n",
              "2017-01-04  0.000227  0.000239  0.000225  0.000236   0.000236       442095\n",
              "2017-01-05  0.000233  0.000257  0.000221  0.000229   0.000229       994730\n",
              "...              ...       ...       ...       ...        ...          ...\n",
              "2021-05-11  0.450488  0.546651  0.445034  0.495231   0.495231  14566975476\n",
              "2021-05-12  0.493742  0.519975  0.385376  0.385376   0.385376   8621337859\n",
              "2021-05-13  0.392176  0.519461  0.357175  0.490374   0.490374  18663174069\n",
              "2021-05-14  0.487070  0.589690  0.464622  0.559604   0.559604  20466177002\n",
              "2021-05-15  0.556366  0.561477  0.522620  0.537252   0.537252  17539403776\n",
              "\n",
              "[1592 rows x 6 columns]"
            ]
          },
          "metadata": {
            "tags": []
          },
          "execution_count": 14
        }
      ]
    },
    {
      "cell_type": "code",
      "metadata": {
        "colab": {
          "base_uri": "https://localhost:8080/",
          "height": 406
        },
        "id": "Xj7p8o9QnaZy",
        "outputId": "53ee1b5a-7aa2-4faa-cee5-71cd9528fe96"
      },
      "source": [
        "df = df.reset_index()zzz\n",
        "df"
      ],
      "execution_count": null,
      "outputs": [
        {
          "output_type": "execute_result",
          "data": {
            "text/html": [
              "<div>\n",
              "<style scoped>\n",
              "    .dataframe tbody tr th:only-of-type {\n",
              "        vertical-align: middle;\n",
              "    }\n",
              "\n",
              "    .dataframe tbody tr th {\n",
              "        vertical-align: top;\n",
              "    }\n",
              "\n",
              "    .dataframe thead th {\n",
              "        text-align: right;\n",
              "    }\n",
              "</style>\n",
              "<table border=\"1\" class=\"dataframe\">\n",
              "  <thead>\n",
              "    <tr style=\"text-align: right;\">\n",
              "      <th></th>\n",
              "      <th>Date</th>\n",
              "      <th>Open</th>\n",
              "      <th>High</th>\n",
              "      <th>Low</th>\n",
              "      <th>Close</th>\n",
              "      <th>Adj Close</th>\n",
              "      <th>Volume</th>\n",
              "    </tr>\n",
              "  </thead>\n",
              "  <tbody>\n",
              "    <tr>\n",
              "      <th>0</th>\n",
              "      <td>2017-01-01</td>\n",
              "      <td>0.000223</td>\n",
              "      <td>0.000228</td>\n",
              "      <td>0.000221</td>\n",
              "      <td>0.000228</td>\n",
              "      <td>0.000228</td>\n",
              "      <td>136829</td>\n",
              "    </tr>\n",
              "    <tr>\n",
              "      <th>1</th>\n",
              "      <td>2017-01-02</td>\n",
              "      <td>0.000228</td>\n",
              "      <td>0.000230</td>\n",
              "      <td>0.000222</td>\n",
              "      <td>0.000226</td>\n",
              "      <td>0.000226</td>\n",
              "      <td>195520</td>\n",
              "    </tr>\n",
              "    <tr>\n",
              "      <th>2</th>\n",
              "      <td>2017-01-03</td>\n",
              "      <td>0.000224</td>\n",
              "      <td>0.000228</td>\n",
              "      <td>0.000222</td>\n",
              "      <td>0.000227</td>\n",
              "      <td>0.000227</td>\n",
              "      <td>132352</td>\n",
              "    </tr>\n",
              "    <tr>\n",
              "      <th>3</th>\n",
              "      <td>2017-01-04</td>\n",
              "      <td>0.000227</td>\n",
              "      <td>0.000239</td>\n",
              "      <td>0.000225</td>\n",
              "      <td>0.000236</td>\n",
              "      <td>0.000236</td>\n",
              "      <td>442095</td>\n",
              "    </tr>\n",
              "    <tr>\n",
              "      <th>4</th>\n",
              "      <td>2017-01-05</td>\n",
              "      <td>0.000233</td>\n",
              "      <td>0.000257</td>\n",
              "      <td>0.000221</td>\n",
              "      <td>0.000229</td>\n",
              "      <td>0.000229</td>\n",
              "      <td>994730</td>\n",
              "    </tr>\n",
              "    <tr>\n",
              "      <th>...</th>\n",
              "      <td>...</td>\n",
              "      <td>...</td>\n",
              "      <td>...</td>\n",
              "      <td>...</td>\n",
              "      <td>...</td>\n",
              "      <td>...</td>\n",
              "      <td>...</td>\n",
              "    </tr>\n",
              "    <tr>\n",
              "      <th>1587</th>\n",
              "      <td>2021-05-11</td>\n",
              "      <td>0.450488</td>\n",
              "      <td>0.546651</td>\n",
              "      <td>0.445034</td>\n",
              "      <td>0.495231</td>\n",
              "      <td>0.495231</td>\n",
              "      <td>14566975476</td>\n",
              "    </tr>\n",
              "    <tr>\n",
              "      <th>1588</th>\n",
              "      <td>2021-05-12</td>\n",
              "      <td>0.493742</td>\n",
              "      <td>0.519975</td>\n",
              "      <td>0.385376</td>\n",
              "      <td>0.385376</td>\n",
              "      <td>0.385376</td>\n",
              "      <td>8621337859</td>\n",
              "    </tr>\n",
              "    <tr>\n",
              "      <th>1589</th>\n",
              "      <td>2021-05-13</td>\n",
              "      <td>0.392176</td>\n",
              "      <td>0.519461</td>\n",
              "      <td>0.357175</td>\n",
              "      <td>0.490374</td>\n",
              "      <td>0.490374</td>\n",
              "      <td>18663174069</td>\n",
              "    </tr>\n",
              "    <tr>\n",
              "      <th>1590</th>\n",
              "      <td>2021-05-14</td>\n",
              "      <td>0.487070</td>\n",
              "      <td>0.589690</td>\n",
              "      <td>0.464622</td>\n",
              "      <td>0.559604</td>\n",
              "      <td>0.559604</td>\n",
              "      <td>20466177002</td>\n",
              "    </tr>\n",
              "    <tr>\n",
              "      <th>1591</th>\n",
              "      <td>2021-05-15</td>\n",
              "      <td>0.556366</td>\n",
              "      <td>0.561477</td>\n",
              "      <td>0.522620</td>\n",
              "      <td>0.537252</td>\n",
              "      <td>0.537252</td>\n",
              "      <td>17539403776</td>\n",
              "    </tr>\n",
              "  </tbody>\n",
              "</table>\n",
              "<p>1592 rows × 7 columns</p>\n",
              "</div>"
            ],
            "text/plain": [
              "           Date      Open      High       Low     Close  Adj Close       Volume\n",
              "0    2017-01-01  0.000223  0.000228  0.000221  0.000228   0.000228       136829\n",
              "1    2017-01-02  0.000228  0.000230  0.000222  0.000226   0.000226       195520\n",
              "2    2017-01-03  0.000224  0.000228  0.000222  0.000227   0.000227       132352\n",
              "3    2017-01-04  0.000227  0.000239  0.000225  0.000236   0.000236       442095\n",
              "4    2017-01-05  0.000233  0.000257  0.000221  0.000229   0.000229       994730\n",
              "...         ...       ...       ...       ...       ...        ...          ...\n",
              "1587 2021-05-11  0.450488  0.546651  0.445034  0.495231   0.495231  14566975476\n",
              "1588 2021-05-12  0.493742  0.519975  0.385376  0.385376   0.385376   8621337859\n",
              "1589 2021-05-13  0.392176  0.519461  0.357175  0.490374   0.490374  18663174069\n",
              "1590 2021-05-14  0.487070  0.589690  0.464622  0.559604   0.559604  20466177002\n",
              "1591 2021-05-15  0.556366  0.561477  0.522620  0.537252   0.537252  17539403776\n",
              "\n",
              "[1592 rows x 7 columns]"
            ]
          },
          "metadata": {
            "tags": []
          },
          "execution_count": 15
        }
      ]
    },
    {
      "cell_type": "code",
      "metadata": {
        "colab": {
          "base_uri": "https://localhost:8080/",
          "height": 406
        },
        "id": "bi-rjT-ZneXr",
        "outputId": "90879442-9a99-4acf-deab-ba1aacf8689e"
      },
      "source": [
        "df[['ds','y']] =df[[\"Date\",\"Adj Close\"]]\n",
        "df"
      ],
      "execution_count": null,
      "outputs": [
        {
          "output_type": "execute_result",
          "data": {
            "text/html": [
              "<div>\n",
              "<style scoped>\n",
              "    .dataframe tbody tr th:only-of-type {\n",
              "        vertical-align: middle;\n",
              "    }\n",
              "\n",
              "    .dataframe tbody tr th {\n",
              "        vertical-align: top;\n",
              "    }\n",
              "\n",
              "    .dataframe thead th {\n",
              "        text-align: right;\n",
              "    }\n",
              "</style>\n",
              "<table border=\"1\" class=\"dataframe\">\n",
              "  <thead>\n",
              "    <tr style=\"text-align: right;\">\n",
              "      <th></th>\n",
              "      <th>Date</th>\n",
              "      <th>Open</th>\n",
              "      <th>High</th>\n",
              "      <th>Low</th>\n",
              "      <th>Close</th>\n",
              "      <th>Adj Close</th>\n",
              "      <th>Volume</th>\n",
              "      <th>ds</th>\n",
              "      <th>y</th>\n",
              "    </tr>\n",
              "  </thead>\n",
              "  <tbody>\n",
              "    <tr>\n",
              "      <th>0</th>\n",
              "      <td>2017-01-01</td>\n",
              "      <td>0.000223</td>\n",
              "      <td>0.000228</td>\n",
              "      <td>0.000221</td>\n",
              "      <td>0.000228</td>\n",
              "      <td>0.000228</td>\n",
              "      <td>136829</td>\n",
              "      <td>2017-01-01</td>\n",
              "      <td>0.000228</td>\n",
              "    </tr>\n",
              "    <tr>\n",
              "      <th>1</th>\n",
              "      <td>2017-01-02</td>\n",
              "      <td>0.000228</td>\n",
              "      <td>0.000230</td>\n",
              "      <td>0.000222</td>\n",
              "      <td>0.000226</td>\n",
              "      <td>0.000226</td>\n",
              "      <td>195520</td>\n",
              "      <td>2017-01-02</td>\n",
              "      <td>0.000226</td>\n",
              "    </tr>\n",
              "    <tr>\n",
              "      <th>2</th>\n",
              "      <td>2017-01-03</td>\n",
              "      <td>0.000224</td>\n",
              "      <td>0.000228</td>\n",
              "      <td>0.000222</td>\n",
              "      <td>0.000227</td>\n",
              "      <td>0.000227</td>\n",
              "      <td>132352</td>\n",
              "      <td>2017-01-03</td>\n",
              "      <td>0.000227</td>\n",
              "    </tr>\n",
              "    <tr>\n",
              "      <th>3</th>\n",
              "      <td>2017-01-04</td>\n",
              "      <td>0.000227</td>\n",
              "      <td>0.000239</td>\n",
              "      <td>0.000225</td>\n",
              "      <td>0.000236</td>\n",
              "      <td>0.000236</td>\n",
              "      <td>442095</td>\n",
              "      <td>2017-01-04</td>\n",
              "      <td>0.000236</td>\n",
              "    </tr>\n",
              "    <tr>\n",
              "      <th>4</th>\n",
              "      <td>2017-01-05</td>\n",
              "      <td>0.000233</td>\n",
              "      <td>0.000257</td>\n",
              "      <td>0.000221</td>\n",
              "      <td>0.000229</td>\n",
              "      <td>0.000229</td>\n",
              "      <td>994730</td>\n",
              "      <td>2017-01-05</td>\n",
              "      <td>0.000229</td>\n",
              "    </tr>\n",
              "    <tr>\n",
              "      <th>...</th>\n",
              "      <td>...</td>\n",
              "      <td>...</td>\n",
              "      <td>...</td>\n",
              "      <td>...</td>\n",
              "      <td>...</td>\n",
              "      <td>...</td>\n",
              "      <td>...</td>\n",
              "      <td>...</td>\n",
              "      <td>...</td>\n",
              "    </tr>\n",
              "    <tr>\n",
              "      <th>1587</th>\n",
              "      <td>2021-05-11</td>\n",
              "      <td>0.450488</td>\n",
              "      <td>0.546651</td>\n",
              "      <td>0.445034</td>\n",
              "      <td>0.495231</td>\n",
              "      <td>0.495231</td>\n",
              "      <td>14566975476</td>\n",
              "      <td>2021-05-11</td>\n",
              "      <td>0.495231</td>\n",
              "    </tr>\n",
              "    <tr>\n",
              "      <th>1588</th>\n",
              "      <td>2021-05-12</td>\n",
              "      <td>0.493742</td>\n",
              "      <td>0.519975</td>\n",
              "      <td>0.385376</td>\n",
              "      <td>0.385376</td>\n",
              "      <td>0.385376</td>\n",
              "      <td>8621337859</td>\n",
              "      <td>2021-05-12</td>\n",
              "      <td>0.385376</td>\n",
              "    </tr>\n",
              "    <tr>\n",
              "      <th>1589</th>\n",
              "      <td>2021-05-13</td>\n",
              "      <td>0.392176</td>\n",
              "      <td>0.519461</td>\n",
              "      <td>0.357175</td>\n",
              "      <td>0.490374</td>\n",
              "      <td>0.490374</td>\n",
              "      <td>18663174069</td>\n",
              "      <td>2021-05-13</td>\n",
              "      <td>0.490374</td>\n",
              "    </tr>\n",
              "    <tr>\n",
              "      <th>1590</th>\n",
              "      <td>2021-05-14</td>\n",
              "      <td>0.487070</td>\n",
              "      <td>0.589690</td>\n",
              "      <td>0.464622</td>\n",
              "      <td>0.559604</td>\n",
              "      <td>0.559604</td>\n",
              "      <td>20466177002</td>\n",
              "      <td>2021-05-14</td>\n",
              "      <td>0.559604</td>\n",
              "    </tr>\n",
              "    <tr>\n",
              "      <th>1591</th>\n",
              "      <td>2021-05-15</td>\n",
              "      <td>0.556366</td>\n",
              "      <td>0.561477</td>\n",
              "      <td>0.522620</td>\n",
              "      <td>0.537252</td>\n",
              "      <td>0.537252</td>\n",
              "      <td>17539403776</td>\n",
              "      <td>2021-05-15</td>\n",
              "      <td>0.537252</td>\n",
              "    </tr>\n",
              "  </tbody>\n",
              "</table>\n",
              "<p>1592 rows × 9 columns</p>\n",
              "</div>"
            ],
            "text/plain": [
              "           Date      Open      High  ...       Volume         ds         y\n",
              "0    2017-01-01  0.000223  0.000228  ...       136829 2017-01-01  0.000228\n",
              "1    2017-01-02  0.000228  0.000230  ...       195520 2017-01-02  0.000226\n",
              "2    2017-01-03  0.000224  0.000228  ...       132352 2017-01-03  0.000227\n",
              "3    2017-01-04  0.000227  0.000239  ...       442095 2017-01-04  0.000236\n",
              "4    2017-01-05  0.000233  0.000257  ...       994730 2017-01-05  0.000229\n",
              "...         ...       ...       ...  ...          ...        ...       ...\n",
              "1587 2021-05-11  0.450488  0.546651  ...  14566975476 2021-05-11  0.495231\n",
              "1588 2021-05-12  0.493742  0.519975  ...   8621337859 2021-05-12  0.385376\n",
              "1589 2021-05-13  0.392176  0.519461  ...  18663174069 2021-05-13  0.490374\n",
              "1590 2021-05-14  0.487070  0.589690  ...  20466177002 2021-05-14  0.559604\n",
              "1591 2021-05-15  0.556366  0.561477  ...  17539403776 2021-05-15  0.537252\n",
              "\n",
              "[1592 rows x 9 columns]"
            ]
          },
          "metadata": {
            "tags": []
          },
          "execution_count": 16
        }
      ]
    },
    {
      "cell_type": "code",
      "metadata": {
        "id": "dOXODKqznij_"
      },
      "source": [
        "model = Prophet()"
      ],
      "execution_count": null,
      "outputs": []
    },
    {
      "cell_type": "code",
      "metadata": {
        "colab": {
          "base_uri": "https://localhost:8080/"
        },
        "id": "5Ma24A-UnmZn",
        "outputId": "34a602c9-c589-4986-84a0-e1590cb1b56a"
      },
      "source": [
        "model.fit(df)"
      ],
      "execution_count": null,
      "outputs": [
        {
          "output_type": "stream",
          "text": [
            "INFO:fbprophet:Disabling daily seasonality. Run prophet with daily_seasonality=True to override this.\n"
          ],
          "name": "stderr"
        },
        {
          "output_type": "execute_result",
          "data": {
            "text/plain": [
              "<fbprophet.forecaster.Prophet at 0x7f02776f7990>"
            ]
          },
          "metadata": {
            "tags": []
          },
          "execution_count": 18
        }
      ]
    },
    {
      "cell_type": "code",
      "metadata": {
        "colab": {
          "base_uri": "https://localhost:8080/",
          "height": 441
        },
        "id": "EfzyPHQhnqxU",
        "outputId": "4c16e70c-c9de-4583-f88b-aeaabae8645f"
      },
      "source": [
        "future = model.make_future_dataframe(365)\n",
        "forecast = model.predict(future)\n",
        "model.plot(forecast)\n",
        "plt.xlabel(\"Doge predic\")\n",
        "plt.ylabel(\"Price\")\n",
        "plt.show()"
      ],
      "execution_count": null,
      "outputs": [
        {
          "output_type": "display_data",
          "data": {
            "image/png": "[encoded data removed]",
            "text/plain": [
              "<Figure size 720x432 with 1 Axes>"
            ]
          },
          "metadata": {
            "tags": []
          }
        }
      ]
    },
    {
      "cell_type": "markdown",
      "metadata": {
        "id": "t6BU-Fq3psAT"
      },
      "source": [
        "ETH"
      ]
    },
    {
      "cell_type": "code",
      "metadata": {
        "colab": {
          "base_uri": "https://localhost:8080/",
          "height": 454
        },
        "id": "FZPn3uH3oVFt",
        "outputId": "dbb431de-1d2a-4005-997b-6e07d41ba587"
      },
      "source": [
        "df = yf.download('ETH-USD',start='2017-01-01')\n",
        "df"
      ],
      "execution_count": null,
      "outputs": [
        {
          "output_type": "stream",
          "text": [
            "\r[*********************100%***********************]  1 of 1 completed\n"
          ],
          "name": "stdout"
        },
        {
          "output_type": "execute_result",
          "data": {
            "text/html": [
              "<div>\n",
              "<style scoped>\n",
              "    .dataframe tbody tr th:only-of-type {\n",
              "        vertical-align: middle;\n",
              "    }\n",
              "\n",
              "    .dataframe tbody tr th {\n",
              "        vertical-align: top;\n",
              "    }\n",
              "\n",
              "    .dataframe thead th {\n",
              "        text-align: right;\n",
              "    }\n",
              "</style>\n",
              "<table border=\"1\" class=\"dataframe\">\n",
              "  <thead>\n",
              "    <tr style=\"text-align: right;\">\n",
              "      <th></th>\n",
              "      <th>Open</th>\n",
              "      <th>High</th>\n",
              "      <th>Low</th>\n",
              "      <th>Close</th>\n",
              "      <th>Adj Close</th>\n",
              "      <th>Volume</th>\n",
              "    </tr>\n",
              "    <tr>\n",
              "      <th>Date</th>\n",
              "      <th></th>\n",
              "      <th></th>\n",
              "      <th></th>\n",
              "      <th></th>\n",
              "      <th></th>\n",
              "      <th></th>\n",
              "    </tr>\n",
              "  </thead>\n",
              "  <tbody>\n",
              "    <tr>\n",
              "      <th>2017-01-01</th>\n",
              "      <td>7.982310</td>\n",
              "      <td>8.471230</td>\n",
              "      <td>7.982310</td>\n",
              "      <td>8.172570</td>\n",
              "      <td>8.172570</td>\n",
              "      <td>14731700</td>\n",
              "    </tr>\n",
              "    <tr>\n",
              "      <th>2017-01-02</th>\n",
              "      <td>8.170870</td>\n",
              "      <td>8.436330</td>\n",
              "      <td>8.054410</td>\n",
              "      <td>8.378510</td>\n",
              "      <td>8.378510</td>\n",
              "      <td>14579600</td>\n",
              "    </tr>\n",
              "    <tr>\n",
              "      <th>2017-01-03</th>\n",
              "      <td>8.374580</td>\n",
              "      <td>9.996800</td>\n",
              "      <td>8.317170</td>\n",
              "      <td>9.725250</td>\n",
              "      <td>9.725250</td>\n",
              "      <td>33625200</td>\n",
              "    </tr>\n",
              "    <tr>\n",
              "      <th>2017-01-04</th>\n",
              "      <td>9.709290</td>\n",
              "      <td>11.276400</td>\n",
              "      <td>9.559810</td>\n",
              "      <td>11.251600</td>\n",
              "      <td>11.251600</td>\n",
              "      <td>41051200</td>\n",
              "    </tr>\n",
              "    <tr>\n",
              "      <th>2017-01-05</th>\n",
              "      <td>11.286800</td>\n",
              "      <td>11.890900</td>\n",
              "      <td>9.402680</td>\n",
              "      <td>10.254400</td>\n",
              "      <td>10.254400</td>\n",
              "      <td>41557400</td>\n",
              "    </tr>\n",
              "    <tr>\n",
              "      <th>...</th>\n",
              "      <td>...</td>\n",
              "      <td>...</td>\n",
              "      <td>...</td>\n",
              "      <td>...</td>\n",
              "      <td>...</td>\n",
              "      <td>...</td>\n",
              "    </tr>\n",
              "    <tr>\n",
              "      <th>2021-05-11</th>\n",
              "      <td>3948.271973</td>\n",
              "      <td>4178.208984</td>\n",
              "      <td>3783.889404</td>\n",
              "      <td>4168.701172</td>\n",
              "      <td>4168.701172</td>\n",
              "      <td>52679737865</td>\n",
              "    </tr>\n",
              "    <tr>\n",
              "      <th>2021-05-12</th>\n",
              "      <td>4174.635742</td>\n",
              "      <td>4362.350586</td>\n",
              "      <td>3785.848633</td>\n",
              "      <td>3785.848633</td>\n",
              "      <td>3785.848633</td>\n",
              "      <td>69023382175</td>\n",
              "    </tr>\n",
              "    <tr>\n",
              "      <th>2021-05-13</th>\n",
              "      <td>3828.918457</td>\n",
              "      <td>4032.563477</td>\n",
              "      <td>3549.407227</td>\n",
              "      <td>3715.148438</td>\n",
              "      <td>3715.148438</td>\n",
              "      <td>78398214539</td>\n",
              "    </tr>\n",
              "    <tr>\n",
              "      <th>2021-05-14</th>\n",
              "      <td>3720.122314</td>\n",
              "      <td>4171.017090</td>\n",
              "      <td>3703.399902</td>\n",
              "      <td>4079.057373</td>\n",
              "      <td>4079.057373</td>\n",
              "      <td>48174271215</td>\n",
              "    </tr>\n",
              "    <tr>\n",
              "      <th>2021-05-15</th>\n",
              "      <td>4099.667969</td>\n",
              "      <td>4129.185547</td>\n",
              "      <td>3986.058105</td>\n",
              "      <td>4017.243896</td>\n",
              "      <td>4017.243896</td>\n",
              "      <td>45288026112</td>\n",
              "    </tr>\n",
              "  </tbody>\n",
              "</table>\n",
              "<p>1592 rows × 6 columns</p>\n",
              "</div>"
            ],
            "text/plain": [
              "                   Open         High  ...    Adj Close       Volume\n",
              "Date                                  ...                          \n",
              "2017-01-01     7.982310     8.471230  ...     8.172570     14731700\n",
              "2017-01-02     8.170870     8.436330  ...     8.378510     14579600\n",
              "2017-01-03     8.374580     9.996800  ...     9.725250     33625200\n",
              "2017-01-04     9.709290    11.276400  ...    11.251600     41051200\n",
              "2017-01-05    11.286800    11.890900  ...    10.254400     41557400\n",
              "...                 ...          ...  ...          ...          ...\n",
              "2021-05-11  3948.271973  4178.208984  ...  4168.701172  52679737865\n",
              "2021-05-12  4174.635742  4362.350586  ...  3785.848633  69023382175\n",
              "2021-05-13  3828.918457  4032.563477  ...  3715.148438  78398214539\n",
              "2021-05-14  3720.122314  4171.017090  ...  4079.057373  48174271215\n",
              "2021-05-15  4099.667969  4129.185547  ...  4017.243896  45288026112\n",
              "\n",
              "[1592 rows x 6 columns]"
            ]
          },
          "metadata": {
            "tags": []
          },
          "execution_count": 23
        }
      ]
    },
    {
      "cell_type": "code",
      "metadata": {
        "id": "dQ5p3Y5Gp656"
      },
      "source": [
        "df = df.reset_index()\n",
        "df"
      ],
      "execution_count": null,
      "outputs": []
    },
    {
      "cell_type": "code",
      "metadata": {
        "id": "biJcMYqJp_Fb",
        "colab": {
          "base_uri": "https://localhost:8080/",
          "height": 406
        },
        "outputId": "e1307d90-d016-46b0-c063-705501ff4ea6"
      },
      "source": [
        "df[['ds','y']] =df[[\"Date\",\"Adj Close\"]]\n",
        "df"
      ],
      "execution_count": null,
      "outputs": [
        {
          "output_type": "execute_result",
          "data": {
            "text/html": [
              "<div>\n",
              "<style scoped>\n",
              "    .dataframe tbody tr th:only-of-type {\n",
              "        vertical-align: middle;\n",
              "    }\n",
              "\n",
              "    .dataframe tbody tr th {\n",
              "        vertical-align: top;\n",
              "    }\n",
              "\n",
              "    .dataframe thead th {\n",
              "        text-align: right;\n",
              "    }\n",
              "</style>\n",
              "<table border=\"1\" class=\"dataframe\">\n",
              "  <thead>\n",
              "    <tr style=\"text-align: right;\">\n",
              "      <th></th>\n",
              "      <th>Date</th>\n",
              "      <th>Open</th>\n",
              "      <th>High</th>\n",
              "      <th>Low</th>\n",
              "      <th>Close</th>\n",
              "      <th>Adj Close</th>\n",
              "      <th>Volume</th>\n",
              "      <th>ds</th>\n",
              "      <th>y</th>\n",
              "    </tr>\n",
              "  </thead>\n",
              "  <tbody>\n",
              "    <tr>\n",
              "      <th>0</th>\n",
              "      <td>2017-01-01</td>\n",
              "      <td>963.658020</td>\n",
              "      <td>1003.080017</td>\n",
              "      <td>958.698975</td>\n",
              "      <td>998.325012</td>\n",
              "      <td>998.325012</td>\n",
              "      <td>147775008</td>\n",
              "      <td>2017-01-01</td>\n",
              "      <td>998.325012</td>\n",
              "    </tr>\n",
              "    <tr>\n",
              "      <th>1</th>\n",
              "      <td>2017-01-02</td>\n",
              "      <td>998.617004</td>\n",
              "      <td>1031.390015</td>\n",
              "      <td>996.702026</td>\n",
              "      <td>1021.750000</td>\n",
              "      <td>1021.750000</td>\n",
              "      <td>222184992</td>\n",
              "      <td>2017-01-02</td>\n",
              "      <td>1021.750000</td>\n",
              "    </tr>\n",
              "    <tr>\n",
              "      <th>2</th>\n",
              "      <td>2017-01-03</td>\n",
              "      <td>1021.599976</td>\n",
              "      <td>1044.079956</td>\n",
              "      <td>1021.599976</td>\n",
              "      <td>1043.839966</td>\n",
              "      <td>1043.839966</td>\n",
              "      <td>185168000</td>\n",
              "      <td>2017-01-03</td>\n",
              "      <td>1043.839966</td>\n",
              "    </tr>\n",
              "    <tr>\n",
              "      <th>3</th>\n",
              "      <td>2017-01-04</td>\n",
              "      <td>1044.400024</td>\n",
              "      <td>1159.420044</td>\n",
              "      <td>1044.400024</td>\n",
              "      <td>1154.729980</td>\n",
              "      <td>1154.729980</td>\n",
              "      <td>344945984</td>\n",
              "      <td>2017-01-04</td>\n",
              "      <td>1154.729980</td>\n",
              "    </tr>\n",
              "    <tr>\n",
              "      <th>4</th>\n",
              "      <td>2017-01-05</td>\n",
              "      <td>1156.729980</td>\n",
              "      <td>1191.099976</td>\n",
              "      <td>910.416992</td>\n",
              "      <td>1013.380005</td>\n",
              "      <td>1013.380005</td>\n",
              "      <td>510199008</td>\n",
              "      <td>2017-01-05</td>\n",
              "      <td>1013.380005</td>\n",
              "    </tr>\n",
              "    <tr>\n",
              "      <th>...</th>\n",
              "      <td>...</td>\n",
              "      <td>...</td>\n",
              "      <td>...</td>\n",
              "      <td>...</td>\n",
              "      <td>...</td>\n",
              "      <td>...</td>\n",
              "      <td>...</td>\n",
              "      <td>...</td>\n",
              "      <td>...</td>\n",
              "    </tr>\n",
              "    <tr>\n",
              "      <th>1592</th>\n",
              "      <td>2021-05-16</td>\n",
              "      <td>46716.636719</td>\n",
              "      <td>49720.042969</td>\n",
              "      <td>43963.351562</td>\n",
              "      <td>46456.058594</td>\n",
              "      <td>46456.058594</td>\n",
              "      <td>64047871555</td>\n",
              "      <td>2021-05-16</td>\n",
              "      <td>46456.058594</td>\n",
              "    </tr>\n",
              "    <tr>\n",
              "      <th>1593</th>\n",
              "      <td>2021-05-17</td>\n",
              "      <td>46415.898438</td>\n",
              "      <td>46623.558594</td>\n",
              "      <td>42207.289062</td>\n",
              "      <td>43537.511719</td>\n",
              "      <td>43537.511719</td>\n",
              "      <td>74903638450</td>\n",
              "      <td>2021-05-17</td>\n",
              "      <td>43537.511719</td>\n",
              "    </tr>\n",
              "    <tr>\n",
              "      <th>1594</th>\n",
              "      <td>2021-05-18</td>\n",
              "      <td>43488.058594</td>\n",
              "      <td>45812.457031</td>\n",
              "      <td>42367.832031</td>\n",
              "      <td>42909.402344</td>\n",
              "      <td>42909.402344</td>\n",
              "      <td>56187365084</td>\n",
              "      <td>2021-05-18</td>\n",
              "      <td>42909.402344</td>\n",
              "    </tr>\n",
              "    <tr>\n",
              "      <th>1595</th>\n",
              "      <td>2021-05-19</td>\n",
              "      <td>42944.976562</td>\n",
              "      <td>43546.117188</td>\n",
              "      <td>30681.496094</td>\n",
              "      <td>37002.441406</td>\n",
              "      <td>37002.441406</td>\n",
              "      <td>126358098747</td>\n",
              "      <td>2021-05-19</td>\n",
              "      <td>37002.441406</td>\n",
              "    </tr>\n",
              "    <tr>\n",
              "      <th>1596</th>\n",
              "      <td>2021-05-20</td>\n",
              "      <td>37281.851562</td>\n",
              "      <td>42406.218750</td>\n",
              "      <td>35050.617188</td>\n",
              "      <td>39481.308594</td>\n",
              "      <td>39481.308594</td>\n",
              "      <td>95300493312</td>\n",
              "      <td>2021-05-20</td>\n",
              "      <td>39481.308594</td>\n",
              "    </tr>\n",
              "  </tbody>\n",
              "</table>\n",
              "<p>1597 rows × 9 columns</p>\n",
              "</div>"
            ],
            "text/plain": [
              "           Date          Open  ...         ds             y\n",
              "0    2017-01-01    963.658020  ... 2017-01-01    998.325012\n",
              "1    2017-01-02    998.617004  ... 2017-01-02   1021.750000\n",
              "2    2017-01-03   1021.599976  ... 2017-01-03   1043.839966\n",
              "3    2017-01-04   1044.400024  ... 2017-01-04   1154.729980\n",
              "4    2017-01-05   1156.729980  ... 2017-01-05   1013.380005\n",
              "...         ...           ...  ...        ...           ...\n",
              "1592 2021-05-16  46716.636719  ... 2021-05-16  46456.058594\n",
              "1593 2021-05-17  46415.898438  ... 2021-05-17  43537.511719\n",
              "1594 2021-05-18  43488.058594  ... 2021-05-18  42909.402344\n",
              "1595 2021-05-19  42944.976562  ... 2021-05-19  37002.441406\n",
              "1596 2021-05-20  37281.851562  ... 2021-05-20  39481.308594\n",
              "\n",
              "[1597 rows x 9 columns]"
            ]
          },
          "metadata": {
            "tags": []
          },
          "execution_count": 12
        }
      ]
    },
    {
      "cell_type": "code",
      "metadata": {
        "colab": {
          "base_uri": "https://localhost:8080/"
        },
        "id": "pBV2AGOBqOtR",
        "outputId": "1cdbd325-14f1-47d3-8350-9b37ddc98603"
      },
      "source": [
        "model = Prophet()\n",
        "model.fit(df)\n"
      ],
      "execution_count": null,
      "outputs": [
        {
          "output_type": "stream",
          "text": [
            "INFO:fbprophet:Disabling daily seasonality. Run prophet with daily_seasonality=True to override this.\n"
          ],
          "name": "stderr"
        },
        {
          "output_type": "execute_result",
          "data": {
            "text/plain": [
              "<fbprophet.forecaster.Prophet at 0x7fc080c6e250>"
            ]
          },
          "metadata": {
            "tags": []
          },
          "execution_count": 13
        }
      ]
    },
    {
      "cell_type": "code",
      "metadata": {
        "colab": {
          "base_uri": "https://localhost:8080/",
          "height": 627
        },
        "id": "1W-7trqVqaXH",
        "outputId": "9ae00281-b689-4115-caef-df1557a8811c"
      },
      "source": [
        "future = model.make_future_dataframe(365)\n",
        "forecast = model.predict(future)\n",
        "model.plot(forecast)\n",
        "plt.xlabel(\"ETH predic\")\n",
        "plt.ylabel(\"Price\")\n",
        "plt.show()\n",
        "zzz"
      ],
      "execution_count": null,
      "outputs": [
        {
          "output_type": "display_data",
          "data": {
            "image/png": "[encoded data removed]",
            "text/plain": [
              "<Figure size 720x432 with 1 Axes>"
            ]
          },
          "metadata": {
            "tags": []
          }
        },
        {
          "output_type": "error",
          "ename": "NameError",
          "evalue": "ignored",
          "traceback": [
            "\u001b[0;31m---------------------------------------------------------------------------\u001b[0m",
            "\u001b[0;31mNameError\u001b[0m                                 Traceback (most recent call last)",
            "\u001b[0;32m<ipython-input-14-ca8c9a4b8177>\u001b[0m in \u001b[0;36m<module>\u001b[0;34m()\u001b[0m\n\u001b[1;32m      5\u001b[0m \u001b[0mplt\u001b[0m\u001b[0;34m.\u001b[0m\u001b[0mylabel\u001b[0m\u001b[0;34m(\u001b[0m\u001b[0;34m\"Price\"\u001b[0m\u001b[0;34m)\u001b[0m\u001b[0;34m\u001b[0m\u001b[0;34m\u001b[0m\u001b[0m\n\u001b[1;32m      6\u001b[0m \u001b[0mplt\u001b[0m\u001b[0;34m.\u001b[0m\u001b[0mshow\u001b[0m\u001b[0;34m(\u001b[0m\u001b[0;34m)\u001b[0m\u001b[0;34m\u001b[0m\u001b[0;34m\u001b[0m\u001b[0m\n\u001b[0;32m----> 7\u001b[0;31m \u001b[0mzzz\u001b[0m\u001b[0;34m\u001b[0m\u001b[0;34m\u001b[0m\u001b[0m\n\u001b[0m",
            "\u001b[0;31mNameError\u001b[0m: name 'zzz' is not defined"
          ]
        }
      ]
    },
    {
      "cell_type": "markdown",
      "metadata": {
        "id": "Gx0GxAV6ty9t"
      },
      "source": [
        "BNB"
      ]
    },
    {
      "cell_type": "code",
      "metadata": {
        "id": "bhMTAwpTqikl"
      },
      "source": [
        "df = yf.download('BNB-USD',start='2017-01-01')\n",
        "df"
      ],
      "execution_count": null,
      "outputs": []
    },
    {
      "cell_type": "code",
      "metadata": {
        "id": "7fv_ufAst5vk"
      },
      "source": [
        "df = df.reset_index()\n",
        "df"
      ],
      "execution_count": null,
      "outputs": []
    },
    {
      "cell_type": "code",
      "metadata": {
        "id": "pF2uo5rVt9_F"
      },
      "source": [
        "df[['ds','y']] =df[[\"Date\",\"Adj Close\"]]\n",
        "df"
      ],
      "execution_count": null,
      "outputs": []
    },
    {
      "cell_type": "code",
      "metadata": {
        "colab": {
          "base_uri": "https://localhost:8080/"
        },
        "id": "ZPwMDVgFuBNy",
        "outputId": "d79215a6-90ba-4de4-fac4-6aa0cb13b041"
      },
      "source": [
        "model = Prophet()\n",
        "model.fit(df)"
      ],
      "execution_count": null,
      "outputs": [
        {
          "output_type": "stream",
          "text": [
            "INFO:fbprophet:Disabling daily seasonality. Run prophet with daily_seasonality=True to override this.\n"
          ],
          "name": "stderr"
        },
        {
          "output_type": "execute_result",
          "data": {
            "text/plain": [
              "<fbprophet.forecaster.Prophet at 0x7f02775cadd0>"
            ]
          },
          "metadata": {
            "tags": []
          },
          "execution_count": 35
        }
      ]
    },
    {
      "cell_type": "code",
      "metadata": {
        "colab": {
          "base_uri": "https://localhost:8080/",
          "height": 441
        },
        "id": "3xAN68b2uD-x",
        "outputId": "359b288f-78d2-4923-8467-9c0a656331b0"
      },
      "source": [
        "future = model.make_future_dataframe(365)\n",
        "forecast = model.predict(future)\n",
        "model.plot(forecast)\n",
        "plt.xlabel(\"BNB predic\")\n",
        "plt.ylabel(\"Price\")\n",
        "plt.show()"
      ],
      "execution_count": null,
      "outputs": [
        {
          "output_type": "display_data",
          "data": {
            "image/png": "[encoded data removed]",
            "text/plain": [
              "<Figure size 720x432 with 1 Axes>"
            ]
          },
          "metadata": {
            "tags": []
          }
        }
      ]
    }
  ]
}